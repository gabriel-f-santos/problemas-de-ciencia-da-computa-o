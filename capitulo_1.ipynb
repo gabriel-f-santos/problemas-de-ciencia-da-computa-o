{
  "nbformat": 4,
  "nbformat_minor": 0,
  "metadata": {
    "colab": {
      "name": "capitulo_1.ipynb",
      "provenance": [],
      "authorship_tag": "ABX9TyOdJv2TVCv/HiBhIf/9DxT+",
      "include_colab_link": true
    },
    "kernelspec": {
      "name": "python3",
      "display_name": "Python 3"
    },
    "language_info": {
      "name": "python"
    }
  },
  "cells": [
    {
      "cell_type": "markdown",
      "metadata": {
        "id": "view-in-github",
        "colab_type": "text"
      },
      "source": [
        "<a href=\"https://colab.research.google.com/github/gabriel-f-santos/problemas-de-ciencia-da-computa-o/blob/master/capitulo_1.ipynb\" target=\"_parent\"><img src=\"https://colab.research.google.com/assets/colab-badge.svg\" alt=\"Open In Colab\"/></a>"
      ]
    },
    {
      "cell_type": "markdown",
      "source": [
        "# Capítulo 1\n",
        "Série infinita que converge para o número pi.\n",
        "\n",
        "pi = (4/1) - (4/3) + (4/5) - (4/7) + (4/9) - (4/11)..."
      ],
      "metadata": {
        "id": "E_E0ci42tZpp"
      }
    },
    {
      "cell_type": "code",
      "execution_count": 1,
      "metadata": {
        "colab": {
          "base_uri": "https://localhost:8080/"
        },
        "id": "LzHecXnfqy0Y",
        "outputId": "4f4db123-d4b8-417a-a7fc-7776c8b8bf82"
      },
      "outputs": [
        {
          "output_type": "stream",
          "name": "stdout",
          "text": [
            "3.140592653839794\n"
          ]
        }
      ],
      "source": [
        "def calculate_pi(n_terms: int) -> float:\n",
        "  numerator: float = 4.0\n",
        "  denominator: float = 1.0\n",
        "  operation: float = 1.0\n",
        "  pi: float = 0.0\n",
        "\n",
        "  for _ in range(n_terms):\n",
        "    pi += operation*(numerator / denominator)\n",
        "    denominator += 2.0\n",
        "    operation *= -1.0\n",
        "  return pi\n",
        "\n",
        "if __name__ == \"__main__\":\n",
        "  print(calculate_pi(1000))"
      ]
    },
    {
      "cell_type": "markdown",
      "source": [
        "# Torres de Hanói\n",
        "\n",
        "O link https://www.somatematica.com.br/jogos/hanoi/ possui uma excelente explicação sobre como o jogo funciona.\n",
        "\n",
        "Para modelarmos usaremos uma pilha, que utiliza o conceito LIFO, last in last out. Uma pilha possui duas operações básicas, push (inserir) e pop (remover)."
      ],
      "metadata": {
        "id": "JqDa83ewx4E-"
      }
    },
    {
      "cell_type": "code",
      "source": [
        "from typing import TypeVar, Generic, List\n",
        "T = TypeVar(\"T\")\n",
        "\n",
        "class Stack(Generic[T]):\n",
        "    def __init__(self) -> None:\n",
        "        self._container: List[T] = []\n",
        "\n",
        "    def push(self, item: T) -> None:\n",
        "        self._container.append(item)\n",
        "\n",
        "    def pop(self) -> T:\n",
        "        return self._container.pop()\n",
        "\n",
        "    def __repr__(self) -> str:\n",
        "        return repr(self._container)\n",
        "\n",
        "\n",
        "num_discs: int = 3\n",
        "tower_a: Stack[int] = Stack()\n",
        "tower_b: Stack[int] = Stack()\n",
        "tower_c: Stack[int] = Stack()\n",
        "\n",
        "for i in range(1, num_discs+1):\n",
        "    tower_a.push(i)"
      ],
      "metadata": {
        "id": "66mwsnEIvPpg"
      },
      "execution_count": 5,
      "outputs": []
    },
    {
      "cell_type": "code",
      "source": [
        "def hanoi(begin: Stack[int], end: Stack[int], temp: Stack[int], n: int) -> None:\n",
        "    if n == 1:\n",
        "        end.push(begin.pop())\n",
        "    else:\n",
        "        hanoi(begin, temp, end, n-1)\n",
        "        hanoi(begin, end, temp, 1)\n",
        "        hanoi(temp, end, begin, n-1)\n",
        "\n",
        "if __name__ == \"__main__\":\n",
        "    hanoi(tower_a, tower_c, tower_b, num_discs)\n",
        "    print(tower_a)\n",
        "    print(tower_b)\n",
        "    print(tower_c)"
      ],
      "metadata": {
        "colab": {
          "base_uri": "https://localhost:8080/"
        },
        "id": "V9eQfZmo5jGh",
        "outputId": "e30ab5ed-2e3d-4660-9790-03d95767e0bd"
      },
      "execution_count": 6,
      "outputs": [
        {
          "output_type": "stream",
          "name": "stdout",
          "text": [
            "[]\n",
            "[]\n",
            "[1, 2, 3]\n"
          ]
        }
      ]
    },
    {
      "cell_type": "code",
      "source": [
        ""
      ],
      "metadata": {
        "id": "tX95-d0G58M7"
      },
      "execution_count": null,
      "outputs": []
    }
  ]
}